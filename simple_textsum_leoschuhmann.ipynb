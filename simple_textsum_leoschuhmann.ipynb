{
  "nbformat": 4,
  "nbformat_minor": 0,
  "metadata": {
    "colab": {
      "name": "simple_textsum_leoschuhmann.ipynb",
      "provenance": [],
      "collapsed_sections": []
    },
    "kernelspec": {
      "name": "python3",
      "display_name": "Python 3"
    },
    "language_info": {
      "name": "python"
    },
    "accelerator": "GPU",
    "widgets": {
      "application/vnd.jupyter.widget-state+json": {
        "904010a195744137bfc434a0c7f0166e": {
          "model_module": "@jupyter-widgets/controls",
          "model_name": "FileUploadModel",
          "model_module_version": "1.5.0",
          "state": {
            "_view_name": "FileUploadView",
            "_counter": 1,
            "style": "IPY_MODEL_63859031f6934035a534d6cb7c5e4787",
            "_dom_classes": [],
            "description": "Upload",
            "multiple": false,
            "_model_name": "FileUploadModel",
            "data": [
              null
            ],
            "button_style": "",
            "_view_module": "@jupyter-widgets/controls",
            "_model_module_version": "1.5.0",
            "accept": ".pdf",
            "_view_count": null,
            "disabled": false,
            "_view_module_version": "1.5.0",
            "error": "",
            "description_tooltip": null,
            "metadata": [
              {
                "name": "Document_A.pdf",
                "type": "application/pdf",
                "size": 44228,
                "lastModified": 1639831549117
              }
            ],
            "_model_module": "@jupyter-widgets/controls",
            "layout": "IPY_MODEL_2d0f3a19ebaf45bdb047d83491884f20",
            "icon": "upload"
          }
        },
        "63859031f6934035a534d6cb7c5e4787": {
          "model_module": "@jupyter-widgets/controls",
          "model_name": "ButtonStyleModel",
          "model_module_version": "1.5.0",
          "state": {
            "_view_name": "StyleView",
            "_model_name": "ButtonStyleModel",
            "_view_module": "@jupyter-widgets/base",
            "_model_module_version": "1.5.0",
            "_view_count": null,
            "button_color": null,
            "font_weight": "",
            "_view_module_version": "1.2.0",
            "_model_module": "@jupyter-widgets/controls"
          }
        },
        "2d0f3a19ebaf45bdb047d83491884f20": {
          "model_module": "@jupyter-widgets/base",
          "model_name": "LayoutModel",
          "model_module_version": "1.2.0",
          "state": {
            "_view_name": "LayoutView",
            "grid_template_rows": null,
            "right": null,
            "justify_content": null,
            "_view_module": "@jupyter-widgets/base",
            "overflow": null,
            "_model_module_version": "1.2.0",
            "_view_count": null,
            "flex_flow": null,
            "width": null,
            "min_width": null,
            "border": null,
            "align_items": null,
            "bottom": null,
            "_model_module": "@jupyter-widgets/base",
            "top": null,
            "grid_column": null,
            "overflow_y": null,
            "overflow_x": null,
            "grid_auto_flow": null,
            "grid_area": null,
            "grid_template_columns": null,
            "flex": null,
            "_model_name": "LayoutModel",
            "justify_items": null,
            "grid_row": null,
            "max_height": null,
            "align_content": null,
            "visibility": null,
            "align_self": null,
            "height": null,
            "min_height": null,
            "padding": null,
            "grid_auto_rows": null,
            "grid_gap": null,
            "max_width": null,
            "order": null,
            "_view_module_version": "1.2.0",
            "grid_template_areas": null,
            "object_position": null,
            "object_fit": null,
            "grid_auto_columns": null,
            "margin": null,
            "display": null,
            "left": null
          }
        }
      }
    }
  },
  "cells": [
    {
      "cell_type": "markdown",
      "metadata": {
        "id": "5mJWm35uhZZ3"
      },
      "source": [
        "# **Automatic Text Summarizer and Metadata extractor with JSON Output**\n",
        "## *Leo Schuhmann*\n",
        "This notebook takes an english PDF-File as input, extracts its available Metadata and reads its text. <br> After that different ways of generating a summary with keywords and abstractive and extractive techniques get used."
      ]
    },
    {
      "cell_type": "markdown",
      "metadata": {
        "id": "BJrP_0W5h4hy"
      },
      "source": [
        "#**Please install following libraries**"
      ]
    },
    {
      "cell_type": "code",
      "metadata": {
        "id": "-n7jj83Ch_rR"
      },
      "source": [
        "!pip install --upgrade pyPDF2\n",
        "!pip install --upgrade sentencepiece\n",
        "!pip install --upgrade bert-extractive-summarizer\n",
        "!pip install --upgrade spacy\n",
        "!pip install --upgrade transformers\n",
        "!pip install --upgrade neuralcoref\n",
        "!pip install --upgrade pegasuspy\n",
        "!python -m spacy download en_core_web_md\n",
        "!pip install --upgrade git+https://github.com/google/flax.git\n",
        "!pip install --upgrade python-rake\n",
        "!pip install --upgrade nltk\n",
        "!pip install --upgrade torch\n",
        "!pip install --upgrade re\n",
        "!pip install --upgrade ipywidgets\n",
        "!pip install --upgrade IPython"
      ],
      "execution_count": null,
      "outputs": []
    },
    {
      "cell_type": "markdown",
      "metadata": {
        "id": "v_GyucvgkiR9"
      },
      "source": [
        "#**Import necessary libraries and download helper files**"
      ]
    },
    {
      "cell_type": "code",
      "metadata": {
        "id": "cDKxtAtGiUBh"
      },
      "source": [
        "from ipywidgets import FileUpload\n",
        "from IPython.display import display\n",
        "from PyPDF2 import PdfFileReader\n",
        "import nltk\n",
        "import re\n",
        "from summarizer import Summarizer\n",
        "from transformers import T5Tokenizer, T5Config, T5ForConditionalGeneration, PegasusTokenizer, PegasusForConditionalGeneration, AutoModelForSeq2SeqLM, AutoTokenizer\n",
        "import torch\n",
        "import pprint\n",
        "import RAKE\n",
        "import pprint\n",
        "nltk.download('punkt')\n",
        "nltk.download('stopwords')\n",
        "pp = pprint.PrettyPrinter(indent=4) #pretty print outputs"
      ],
      "execution_count": null,
      "outputs": []
    },
    {
      "cell_type": "markdown",
      "metadata": {
        "id": "Loi7GZXXlgWq"
      },
      "source": [
        "#**Set the ENGLISH PDF file**\n",
        "*Please press on upload and select the PDF file to get started.* <br>\n",
        "**After uploading the file only execute the next cells, not this one again.**"
      ]
    },
    {
      "cell_type": "code",
      "metadata": {
        "colab": {
          "base_uri": "https://localhost:8080/",
          "height": 49,
          "referenced_widgets": [
            "904010a195744137bfc434a0c7f0166e",
            "63859031f6934035a534d6cb7c5e4787",
            "2d0f3a19ebaf45bdb047d83491884f20"
          ]
        },
        "id": "cqoZj_cb59IE",
        "outputId": "51ca9290-201d-4c24-8e02-a588e671927a"
      },
      "source": [
        "upload = FileUpload(accept='.pdf', multiple=False)\n",
        "display(upload)"
      ],
      "execution_count": 67,
      "outputs": [
        {
          "output_type": "display_data",
          "data": {
            "application/vnd.jupyter.widget-view+json": {
              "model_id": "904010a195744137bfc434a0c7f0166e",
              "version_minor": 0,
              "version_major": 2
            },
            "text/plain": [
              "FileUpload(value={}, accept='.pdf', description='Upload')"
            ]
          },
          "metadata": {}
        }
      ]
    },
    {
      "cell_type": "markdown",
      "metadata": {
        "id": "74iIjaQ9uebS"
      },
      "source": [
        "*this code is converting the pdf upload file, to make it usable in the next steps*"
      ]
    },
    {
      "cell_type": "code",
      "metadata": {
        "id": "dGYZ6V6tne9Y"
      },
      "source": [
        "with open('file_output.pdf', 'wb') as output_file: \n",
        "    for uploaded_filename in upload.value:\n",
        "        content = upload.value[uploaded_filename]['content']   \n",
        "        output_file.write(content) "
      ],
      "execution_count": 68,
      "outputs": []
    },
    {
      "cell_type": "markdown",
      "metadata": {
        "id": "D3Chl9M-nmU7"
      },
      "source": [
        "# **Now we can start**\n",
        "## 1. Read PDF Metadata and Text"
      ]
    },
    {
      "cell_type": "code",
      "metadata": {
        "colab": {
          "base_uri": "https://localhost:8080/"
        },
        "id": "QVzMruJiVSeh",
        "outputId": "f874e6cc-9573-44c0-98a6-fd63051072b5"
      },
      "source": [
        "def get_info(path):\n",
        "    with open(path, 'rb') as f:\n",
        "        pdf = PdfFileReader(f)\n",
        "        info = pdf.getDocumentInfo()\n",
        "        number_of_pages = pdf.getNumPages()\n",
        "\n",
        "        full_text = []\n",
        "        for i in range(number_of_pages):\n",
        "          full_text.append((pdf.getPage(i)).extractText())\n",
        "        full_text = \" \".join(full_text)\n",
        "        \n",
        "    return full_text, info, number_of_pages\n",
        "\n",
        "full_text, metadata, number_of_pages = get_info('file_output.pdf')\n",
        "meta = metadata.copy()\n",
        "meta[r'/NumberPages'] = number_of_pages\n",
        "pp.pprint(meta)\n",
        "pp.pprint(full_text[:100]) #lets only view the first 100 chars "
      ],
      "execution_count": 69,
      "outputs": [
        {
          "output_type": "stream",
          "name": "stdout",
          "text": [
            "{   '/Author': 'Leo Schuhmann',\n",
            "    '/CreationDate': 'D:20211218124501Z',\n",
            "    '/Creator': 'Microsoft® Word for Microsoft 365',\n",
            "    '/Keywords': 'Business Informatics, IT, Study',\n",
            "    '/ModDate': \"D:20211218134549+01'00'\",\n",
            "    '/NumberPages': 2,\n",
            "    '/Producer': 'Microsoft® Word for Microsoft 365',\n",
            "    '/Subject': 'Business Informatics',\n",
            "    '/Title': 'Business Informatics'}\n",
            "('\\n'\n",
            " ' \\n'\n",
            " 'My studies in business informatics:\\n'\n",
            " ' \\n'\n",
            " 'I \\n'\n",
            " \"study business and computer science. That's cool! Busine\")\n"
          ]
        }
      ]
    },
    {
      "cell_type": "markdown",
      "metadata": {
        "id": "DTA7M86_p_vH"
      },
      "source": [
        "## 2. Basic Text Preperation and Cleaning"
      ]
    },
    {
      "cell_type": "code",
      "metadata": {
        "colab": {
          "base_uri": "https://localhost:8080/"
        },
        "id": "BPOg6FKlVpAV",
        "outputId": "542abb33-f8ab-46fa-d094-96eadd3463cc"
      },
      "source": [
        "body = full_text.replace(\"/[^A-Za-z0-9\\s!?]/g\",'').replace(\"\\n\", \" \").strip()\n",
        "body = re.sub(' +', ' ', body)\n",
        "pp.pprint(body[:100]) #lets only view the first 100 chars "
      ],
      "execution_count": 70,
      "outputs": [
        {
          "output_type": "stream",
          "name": "stdout",
          "text": [
            "('My studies in business informatics: I study business and computer science. '\n",
            " \"That's cool! Business is \")\n"
          ]
        }
      ]
    },
    {
      "cell_type": "markdown",
      "metadata": {
        "id": "ITI8yYlurSzT"
      },
      "source": [
        "## 3. BERT Extractive Summarizer"
      ]
    },
    {
      "cell_type": "code",
      "metadata": {
        "colab": {
          "base_uri": "https://localhost:8080/"
        },
        "id": "Vw937YNfW-eU",
        "outputId": "3c0fc2db-c415-4863-d1c6-0b2e97f305c2"
      },
      "source": [
        "model = Summarizer()\n",
        "result = model(body, num_sentences=3) \n",
        "pp.pprint(result)"
      ],
      "execution_count": 71,
      "outputs": [
        {
          "output_type": "stream",
          "name": "stderr",
          "text": [
            "Some weights of the model checkpoint at bert-large-uncased were not used when initializing BertModel: ['cls.predictions.decoder.weight', 'cls.predictions.bias', 'cls.seq_relationship.bias', 'cls.predictions.transform.dense.bias', 'cls.predictions.transform.LayerNorm.weight', 'cls.predictions.transform.dense.weight', 'cls.seq_relationship.weight', 'cls.predictions.transform.LayerNorm.bias']\n",
            "- This IS expected if you are initializing BertModel from the checkpoint of a model trained on another task or with another architecture (e.g. initializing a BertForSequenceClassification model from a BertForPreTraining model).\n",
            "- This IS NOT expected if you are initializing BertModel from the checkpoint of a model that you expect to be exactly identical (initializing a BertForSequenceClassification model from a BertForSequenceClassification model).\n"
          ]
        },
        {
          "output_type": "stream",
          "name": "stdout",
          "text": [
            "('My studies in business informatics: I study business and computer science. '\n",
            " 'From the perspective of computer science, business informatics is an applied '\n",
            " 'computer science. Although business informatics has many characterist ics of '\n",
            " 'a so - called interface or bridge discipline, which is open to other '\n",
            " 'disciplines, it has its own field of statement: it deals with theories, '\n",
            " 'methods, tools and develops intersubjectively verifiable knowledge about '\n",
            " 'information and communication systems . At many university locations, '\n",
            " 'business informatics is therefore assigned to the economic sciences or the '\n",
            " 'social and economic sciences.')\n"
          ]
        }
      ]
    },
    {
      "cell_type": "markdown",
      "metadata": {
        "id": "kBZADpx-sI9x"
      },
      "source": [
        "## 4. T5 Model"
      ]
    },
    {
      "cell_type": "code",
      "source": [
        "model = T5ForConditionalGeneration.from_pretrained('t5-small')\n",
        "tokenizer = T5Tokenizer.from_pretrained('t5-small')\n",
        "device = torch.device('cpu')\n",
        "\n",
        "t5_prepared_Text = \"summarize: \"+result\n",
        "tokenized_text = tokenizer.encode(t5_prepared_Text, return_tensors=\"pt\").to(device)\n",
        "\n",
        "summary_ids = model.generate(tokenized_text,\n",
        "                                    num_beams=4,\n",
        "                                    no_repeat_ngram_size=2,\n",
        "                                    min_length=30,\n",
        "                                    max_length=100,\n",
        "                                    early_stopping=True)\n",
        "\n",
        "output = ([tokenizer.decode(g, skip_special_tokens=True) for g in summary_ids])[0]\n",
        "pp.pprint(output)"
      ],
      "metadata": {
        "colab": {
          "base_uri": "https://localhost:8080/"
        },
        "id": "5Hmo7SVwgwSD",
        "outputId": "cde2e007-b634-4e13-c8c3-142053199eac"
      },
      "execution_count": 72,
      "outputs": [
        {
          "output_type": "stream",
          "name": "stdout",
          "text": [
            "('business informatics has many characterist ics of a so - called interface or '\n",
            " 'bridge discipline, which is open to other disciplines. it deals with '\n",
            " 'theories, methods, tools and develops intersubjectively verifiable knowledge '\n",
            " 'about information and communication systems.')\n"
          ]
        }
      ]
    },
    {
      "cell_type": "markdown",
      "metadata": {
        "id": "PUV-M1UJsu2v"
      },
      "source": [
        "## 5. Pegasus Model"
      ]
    },
    {
      "cell_type": "code",
      "metadata": {
        "colab": {
          "base_uri": "https://localhost:8080/"
        },
        "id": "czXVLa0Ss0PQ",
        "outputId": "6cebb082-dd0e-4fb5-c49a-5708a6ed9027"
      },
      "source": [
        "model = PegasusForConditionalGeneration.from_pretrained('google/pegasus-xsum')\n",
        "tokenizer = PegasusTokenizer.from_pretrained('google/pegasus-xsum')\n",
        "\n",
        "tokenized_text = tokenizer(result, return_tensors='pt').to(device)\n",
        "\n",
        "summary_ids = model.generate(tokenized_text['input_ids'])\n",
        "out = ([tokenizer.decode(g, skip_special_tokens=True) for g in summary_ids])[0]\n",
        "pp.pprint(out)"
      ],
      "execution_count": 73,
      "outputs": [
        {
          "output_type": "stream",
          "name": "stdout",
          "text": [
            "'What is business informatics?'\n"
          ]
        }
      ]
    },
    {
      "cell_type": "markdown",
      "metadata": {
        "id": "txGcZNMzsVSO"
      },
      "source": [
        "## 6. Keywords: RAKE"
      ]
    },
    {
      "cell_type": "code",
      "metadata": {
        "colab": {
          "base_uri": "https://localhost:8080/"
        },
        "id": "yny1qwy9KdPN",
        "outputId": "74afd13e-0deb-4bce-9829-37f8b186fd52"
      },
      "source": [
        "rake = RAKE.Rake(RAKE.SmartStopList())\n",
        "keywords = []\n",
        "\n",
        "out_key = rake.run(body, minCharacters = 1, maxWords = 3, minFrequency = 3)\n",
        "if not out_key:\n",
        "  out_keyt = rake.run(body, minCharacters = 1, maxWords = 3, minFrequency = 2)\n",
        "  if not out_key:\n",
        "    out_key = rake.run(body, minCharacters = 1, maxWords = 3, minFrequency = 1)\n",
        "\n",
        "for entry in range(3):\n",
        "  keywords.append((out_key[entry][0]))\n",
        "\n",
        "pp.pprint(keywords)"
      ],
      "execution_count": 74,
      "outputs": [
        {
          "output_type": "stream",
          "name": "stdout",
          "text": [
            "['business informatics deals', 'business informatics', 'computer science']\n"
          ]
        }
      ]
    },
    {
      "cell_type": "markdown",
      "metadata": {
        "id": "xjXLoSKvtCKA"
      },
      "source": [
        "## Generate JSON Output"
      ]
    },
    {
      "cell_type": "code",
      "metadata": {
        "colab": {
          "base_uri": "https://localhost:8080/"
        },
        "id": "jvTWZKX-QQqj",
        "outputId": "604a0331-4544-4f76-86e7-d4f8b531e731"
      },
      "source": [
        "json_result = {\"metadata\": meta, \n",
        "               \"BERT_extractive_sum\": result,\n",
        "               \"T5_abstractive_sum\": output,\n",
        "               \"Pegasus_abstractive_sum\": out,\n",
        "               \"Rake_top_3_keywords\": keywords}\n",
        "pp.pprint(json_result)"
      ],
      "execution_count": 75,
      "outputs": [
        {
          "output_type": "stream",
          "name": "stdout",
          "text": [
            "{   'BERT_extractive_sum': 'My studies in business informatics: I study '\n",
            "                           'business and computer science. From the '\n",
            "                           'perspective of computer science, business '\n",
            "                           'informatics is an applied computer science. '\n",
            "                           'Although business informatics has many '\n",
            "                           'characterist ics of a so - called interface or '\n",
            "                           'bridge discipline, which is open to other '\n",
            "                           'disciplines, it has its own field of statement: it '\n",
            "                           'deals with theories, methods, tools and develops '\n",
            "                           'intersubjectively verifiable knowledge about '\n",
            "                           'information and communication systems . At many '\n",
            "                           'university locations, business informatics is '\n",
            "                           'therefore assigned to the economic sciences or the '\n",
            "                           'social and economic sciences.',\n",
            "    'Pegasus_abstractive_sum': 'What is business informatics?',\n",
            "    'Rake_top_3_keywords': [   'business informatics deals',\n",
            "                               'business informatics',\n",
            "                               'computer science'],\n",
            "    'T5_abstractive_sum': 'business informatics has many characterist ics of a '\n",
            "                          'so - called interface or bridge discipline, which '\n",
            "                          'is open to other disciplines. it deals with '\n",
            "                          'theories, methods, tools and develops '\n",
            "                          'intersubjectively verifiable knowledge about '\n",
            "                          'information and communication systems.',\n",
            "    'metadata': {   '/Author': 'Leo Schuhmann',\n",
            "                    '/CreationDate': 'D:20211218124501Z',\n",
            "                    '/Creator': 'Microsoft® Word for Microsoft 365',\n",
            "                    '/Keywords': 'Business Informatics, IT, Study',\n",
            "                    '/ModDate': \"D:20211218134549+01'00'\",\n",
            "                    '/NumberPages': 2,\n",
            "                    '/Producer': 'Microsoft® Word for Microsoft 365',\n",
            "                    '/Subject': 'Business Informatics',\n",
            "                    '/Title': 'Business Informatics'}}\n"
          ]
        }
      ]
    }
  ]
}