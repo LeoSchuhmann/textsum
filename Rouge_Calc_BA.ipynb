{
  "nbformat": 4,
  "nbformat_minor": 0,
  "metadata": {
    "colab": {
      "name": "Rougescoreipynb",
      "provenance": [],
      "collapsed_sections": []
    },
    "kernelspec": {
      "name": "python3",
      "display_name": "Python 3"
    },
    "language_info": {
      "name": "python"
    }
  },
  "cells": [
    {
      "cell_type": "markdown",
      "source": [
        "#ROUGE Calculation for Leo Schuhmann Bachelor Thesis Evaluation"
      ],
      "metadata": {
        "id": "HDLsPzOUNKkt"
      }
    },
    {
      "cell_type": "code",
      "source": [
        "%pip install rouge"
      ],
      "metadata": {
        "colab": {
          "base_uri": "https://localhost:8080/"
        },
        "id": "6Y_DK2q4WB_N",
        "outputId": "8c410ddc-fc6e-4b88-b91f-1d4eff47a527"
      },
      "execution_count": null,
      "outputs": [
        {
          "output_type": "stream",
          "name": "stdout",
          "text": [
            "Collecting rouge\n",
            "  Downloading rouge-1.0.1-py3-none-any.whl (13 kB)\n",
            "Requirement already satisfied: six in /usr/local/lib/python3.7/dist-packages (from rouge) (1.15.0)\n",
            "Installing collected packages: rouge\n",
            "Successfully installed rouge-1.0.1\n"
          ]
        }
      ]
    },
    {
      "cell_type": "code",
      "execution_count": null,
      "metadata": {
        "id": "5QuZyEClV82y"
      },
      "outputs": [],
      "source": [
        "from rouge import Rouge"
      ]
    },
    {
      "cell_type": "markdown",
      "source": [
        "#DOCUMENT A:"
      ],
      "metadata": {
        "id": "hYWOBzFXNUYx"
      }
    },
    {
      "cell_type": "code",
      "source": [
        "reference = \"Business informatics is an applied computer science which deals with digitalization in business, administration and society.\"\n",
        "reference = reference.lower()"
      ],
      "metadata": {
        "id": "LTbzVVl0WkgC"
      },
      "execution_count": null,
      "outputs": []
    },
    {
      "cell_type": "code",
      "source": [
        "#BES\n",
        "model_out = \"My studies in business informatics: I study business and computer science. From the perspective of computer science, business informatics is an applied computer science. At many university locations, business informatics is therefore assigned to the economic sciences or the social and economic sciences. Especially due to the development of the Internet, efficient procedures and methods for knowledge generation, management and dissemination are available\"\n",
        "model_out = model_out.lower()\n",
        "rouge = Rouge()\n",
        "print(rouge.get_scores(model_out, reference)[0][\"rouge-2\"])\n"
      ],
      "metadata": {
        "colab": {
          "base_uri": "https://localhost:8080/"
        },
        "id": "crg_sFvpV-PJ",
        "outputId": "a8278e2e-cc92-47c0-b94b-66f988f8b458"
      },
      "execution_count": null,
      "outputs": [
        {
          "output_type": "stream",
          "name": "stdout",
          "text": [
            "{'r': 0.4, 'p': 0.10526315789473684, 'f': 0.1666666633680556}\n"
          ]
        }
      ]
    },
    {
      "cell_type": "code",
      "source": [
        "#T5\n",
        "model_out = \"business informatics is an applied computer science. it deals with theories, methods, tools and develops intersubjectively verifiable knowledge about information and communication systems\"\n",
        "model_out = model_out.lower()\n",
        "rouge = Rouge()\n",
        "print(rouge.get_scores(model_out, reference)[0][\"rouge-2\"])\n"
      ],
      "metadata": {
        "colab": {
          "base_uri": "https://localhost:8080/"
        },
        "id": "bC_c3f30V_le",
        "outputId": "897e2dd7-47af-4524-da08-cdc295cacc52"
      },
      "execution_count": null,
      "outputs": [
        {
          "output_type": "stream",
          "name": "stdout",
          "text": [
            "{'r': 0.4666666666666667, 'p': 0.3181818181818182, 'f': 0.37837837355734116}\n"
          ]
        }
      ]
    },
    {
      "cell_type": "code",
      "source": [
        "#Pegasus\n",
        "model_out = \"What is business informatics\"\n",
        "model_out = model_out.lower()\n",
        "rouge = Rouge()\n",
        "print(rouge.get_scores(model_out, reference)[0][\"rouge-2\"])"
      ],
      "metadata": {
        "colab": {
          "base_uri": "https://localhost:8080/"
        },
        "id": "itKNpYSBWsBN",
        "outputId": "9a61bc5c-2ae6-4b45-c4ad-9e8369929833"
      },
      "execution_count": null,
      "outputs": [
        {
          "output_type": "stream",
          "name": "stdout",
          "text": [
            "{'r': 0.06666666666666667, 'p': 0.3333333333333333, 'f': 0.1111111083333334}\n"
          ]
        }
      ]
    },
    {
      "cell_type": "markdown",
      "source": [
        "#DOCUMENT B:"
      ],
      "metadata": {
        "id": "DPPWN4XyNZMM"
      }
    },
    {
      "cell_type": "code",
      "source": [
        "reference = \"Python is an interpreted high-level general-purpose programming language. It is easy to use and was invented by Guido van Rossum\"\n",
        "reference = reference.lower()"
      ],
      "metadata": {
        "id": "UrirB0tgwNUr"
      },
      "execution_count": null,
      "outputs": []
    },
    {
      "cell_type": "code",
      "source": [
        "#BES\n",
        "model_out = \"The programming Language Python: Python is an interpreted high-level general-purpose programming language. This compact modularity has made it particularly popular as a means of adding programmable interfaces to existing 3 applications. When speed is important, a Python programmer can move time-critical functions to extension modules written in languages such as C, or use PyPy, a just-in-time compiler. Cython is also available, which translates a Python script into C and makes direct C-level API calls into the Python interpreter\"\n",
        "model_out = model_out.lower()\n",
        "rouge = Rouge()\n",
        "print(rouge.get_scores(model_out, reference)[0][\"rouge-2\"])"
      ],
      "metadata": {
        "colab": {
          "base_uri": "https://localhost:8080/"
        },
        "id": "L1PP9FM3wU5A",
        "outputId": "34b8b587-65dd-4383-ff52-62f667a0bdb6"
      },
      "execution_count": null,
      "outputs": [
        {
          "output_type": "stream",
          "name": "stdout",
          "text": [
            "{'r': 0.3684210526315789, 'p': 0.09333333333333334, 'f': 0.14893616698732465}\n"
          ]
        }
      ]
    },
    {
      "cell_type": "code",
      "source": [
        "#T5\n",
        "model_out = \"Python: Python is an interpreted high-level general-purpose programming language. compact modularity has made it particularly popular as a means of adding programmable interfaces to existing 3 applications\"\n",
        "model_out = model_out.lower()\n",
        "rouge = Rouge()\n",
        "print(rouge.get_scores(model_out, reference)[0][\"rouge-2\"])"
      ],
      "metadata": {
        "colab": {
          "base_uri": "https://localhost:8080/"
        },
        "id": "NjPlvg7PwbfW",
        "outputId": "b863c6b2-462b-44e8-c292-438571a0abc9"
      },
      "execution_count": null,
      "outputs": [
        {
          "output_type": "stream",
          "name": "stdout",
          "text": [
            "{'r': 0.3684210526315789, 'p': 0.2692307692307692, 'f': 0.3111111062320988}\n"
          ]
        }
      ]
    },
    {
      "cell_type": "code",
      "source": [
        "#Pegasus\n",
        "model_out = \"The Language Python: Python is an interpreted high-level general-purpose programming language\"\n",
        "model_out = model_out.lower()\n",
        "rouge = Rouge()\n",
        "print(rouge.get_scores(model_out, reference)[0][\"rouge-2\"])"
      ],
      "metadata": {
        "colab": {
          "base_uri": "https://localhost:8080/"
        },
        "id": "ibD2s1uQwih4",
        "outputId": "deb2730a-4a33-4ba6-e70b-ac197200449a"
      },
      "execution_count": null,
      "outputs": [
        {
          "output_type": "stream",
          "name": "stdout",
          "text": [
            "{'r': 0.3684210526315789, 'p': 0.7, 'f': 0.48275861617122473}\n"
          ]
        }
      ]
    },
    {
      "cell_type": "markdown",
      "source": [
        "#Document C:"
      ],
      "metadata": {
        "id": "moWjC4C-Nc5w"
      }
    },
    {
      "cell_type": "code",
      "source": [
        "reference = \"The document discusses the different approaches of automatic text summarization and how they operate\"\n",
        "reference = reference.lower()"
      ],
      "metadata": {
        "id": "M8UuSBsG05fc"
      },
      "execution_count": null,
      "outputs": []
    },
    {
      "cell_type": "code",
      "source": [
        "#BES\n",
        "model_out = \"2n d World Conference on Technology, Innovation and E ntrepreneurship (WCTIE - 2017), V. 5 - p.204 - 213 Tas, Kiyani DOI: 10.17261/Pressacademia.2017. SUMMARIZATION METHODS 3.1.Query Based and Generic Summarization In query based text summarization the scoring of the sentences of a given document is based on the frequency counts of words or phrases. The fuzzy logic method uses the fuzzy rules and triangular membership function. The fuzzy rule s are in the form of IF - THEN .The triangular membership function fuzzifies each score into one of 3 values that is LOW, MEDIUM & HIGH. It compares the summaries generated by the program with the human - generated (gold standard) summa ries\"\n",
        "model_out = model_out.lower()\n",
        "rouge = Rouge()\n",
        "print(rouge.get_scores(model_out, reference)[0][\"rouge-2\"])"
      ],
      "metadata": {
        "colab": {
          "base_uri": "https://localhost:8080/"
        },
        "id": "eLhTN6Ym09BS",
        "outputId": "e3f0dd48-4172-44e5-bd8c-6b258e393b24"
      },
      "execution_count": null,
      "outputs": [
        {
          "output_type": "stream",
          "name": "stdout",
          "text": [
            "{'r': 0.07692307692307693, 'p': 0.008928571428571428, 'f': 0.01599999813632022}\n"
          ]
        }
      ]
    },
    {
      "cell_type": "code",
      "source": [
        "#T5\n",
        "model_out = \"fuzzy rules and triangular membership function fuzzifies each score into one of 3 values that is LOW, MEDIUM & HIGH\"\n",
        "model_out = model_out.lower()\n",
        "rouge = Rouge()\n",
        "print(rouge.get_scores(model_out, reference)[0][\"rouge-2\"])"
      ],
      "metadata": {
        "colab": {
          "base_uri": "https://localhost:8080/"
        },
        "id": "d5KYxsO71CWU",
        "outputId": "a5e57989-59ca-4851-c16b-3496a266173f"
      },
      "execution_count": null,
      "outputs": [
        {
          "output_type": "stream",
          "name": "stdout",
          "text": [
            "{'r': 0.0, 'p': 0.0, 'f': 0.0}\n"
          ]
        }
      ]
    },
    {
      "cell_type": "code",
      "source": [
        "#Pegasus\n",
        "model_out = \"In: World Conference on Technology Innovation and E ntrepreneurship\"\n",
        "model_out = model_out.lower()\n",
        "rouge = Rouge()\n",
        "print(rouge.get_scores(model_out, reference)[0][\"rouge-2\"])"
      ],
      "metadata": {
        "colab": {
          "base_uri": "https://localhost:8080/"
        },
        "id": "5qu-AOJC1Ilc",
        "outputId": "b67fefcc-0c92-4281-ffdd-d8bd262b006a"
      },
      "execution_count": null,
      "outputs": [
        {
          "output_type": "stream",
          "name": "stdout",
          "text": [
            "{'r': 0.0, 'p': 0.0, 'f': 0.0}\n"
          ]
        }
      ]
    }
  ]
}