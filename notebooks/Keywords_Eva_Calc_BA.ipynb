{
  "nbformat": 4,
  "nbformat_minor": 0,
  "metadata": {
    "colab": {
      "name": "Untitled2.ipynb",
      "provenance": []
    },
    "kernelspec": {
      "name": "python3",
      "display_name": "Python 3"
    },
    "language_info": {
      "name": "python"
    }
  },
  "cells": [
    {
      "cell_type": "markdown",
      "source": [
        "#Calculating Top 3 Keywords of human Evaluation BA Leo Schuhmann"
      ],
      "metadata": {
        "id": "vMnyPspEN-v_"
      }
    },
    {
      "cell_type": "code",
      "source": [
        "from collections import Counter"
      ],
      "metadata": {
        "id": "Mmkurn4la-Y3"
      },
      "execution_count": null,
      "outputs": []
    },
    {
      "cell_type": "markdown",
      "source": [
        "##just inserted all keywords set by humans into this string"
      ],
      "metadata": {
        "id": "JQYaE0V6OFwk"
      }
    },
    {
      "cell_type": "code",
      "execution_count": null,
      "metadata": {
        "id": "m7BDPQMdaToj"
      },
      "outputs": [],
      "source": [
        "words = \"automatic; text;summarization; automatic text summarization; explanation; methods; automatic text summarization, NLP, summarization models; Text Summary; Evaluating; Summarization Methods; automatic text summarization; evaluation; feature selection; text summarization; survey; compression; automatic text summarization; methods; evaluation; automatic text summarization; methods; techniques; automatic text summarization; nlp; evaluation; Text summarization; automatic; nlp;\""
      ]
    },
    {
      "cell_type": "code",
      "source": [
        "out = words.replace(\" \",\"\").lower().split(\";\")\n",
        "out"
      ],
      "metadata": {
        "colab": {
          "base_uri": "https://localhost:8080/"
        },
        "id": "MGxx2PLPab3M",
        "outputId": "2f9925a4-5594-47a7-bf08-fbd684a7c3dc"
      },
      "execution_count": null,
      "outputs": [
        {
          "output_type": "execute_result",
          "data": {
            "text/plain": [
              "['automatic',\n",
              " 'text',\n",
              " 'summarization',\n",
              " 'automatictextsummarization',\n",
              " 'explanation',\n",
              " 'methods',\n",
              " 'automatictextsummarization,nlp,summarizationmodels',\n",
              " 'textsummary',\n",
              " 'evaluating',\n",
              " 'summarizationmethods',\n",
              " 'automatictextsummarization',\n",
              " 'evaluation',\n",
              " 'featureselection',\n",
              " 'textsummarization',\n",
              " 'survey',\n",
              " 'compression',\n",
              " 'automatictextsummarization',\n",
              " 'methods',\n",
              " 'evaluation',\n",
              " 'automatictextsummarization',\n",
              " 'methods',\n",
              " 'techniques',\n",
              " 'automatictextsummarization',\n",
              " 'nlp',\n",
              " 'evaluation',\n",
              " 'textsummarization',\n",
              " 'automatic',\n",
              " 'nlp',\n",
              " '']"
            ]
          },
          "metadata": {},
          "execution_count": 46
        }
      ]
    },
    {
      "cell_type": "code",
      "source": [
        "Counter = Counter(out)"
      ],
      "metadata": {
        "id": "Ghtda_O2akEz"
      },
      "execution_count": null,
      "outputs": []
    },
    {
      "cell_type": "code",
      "source": [
        "most = Counter.most_common(3)"
      ],
      "metadata": {
        "id": "hJJkGM7fbE5y"
      },
      "execution_count": null,
      "outputs": []
    },
    {
      "cell_type": "code",
      "source": [
        "most"
      ],
      "metadata": {
        "colab": {
          "base_uri": "https://localhost:8080/"
        },
        "id": "W9kruW6YbMoh",
        "outputId": "9a3fa8c9-8ab3-4548-fccb-19c59bdf4ff6"
      },
      "execution_count": null,
      "outputs": [
        {
          "output_type": "execute_result",
          "data": {
            "text/plain": [
              "[('automatictextsummarization', 5), ('methods', 3), ('evaluation', 3)]"
            ]
          },
          "metadata": {},
          "execution_count": 52
        }
      ]
    },
    {
      "cell_type": "code",
      "source": [
        ""
      ],
      "metadata": {
        "id": "5bZ5JdClbNLf"
      },
      "execution_count": null,
      "outputs": []
    }
  ]
}
